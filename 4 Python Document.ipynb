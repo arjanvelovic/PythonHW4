{
 "cells": [
  {
   "cell_type": "markdown",
   "metadata": {},
   "source": [
    "# Object-Oriented-Programming (OOP)"
   ]
  },
  {
   "cell_type": "markdown",
   "metadata": {},
   "source": [
    "## Tasks Today:\n",
    "\n",
    "   \n",
    "\n",
    "1) <b>Creating a Class (Initializing/Declaring)</b> <br>\n",
    "2) <b>Using a Class (Instantiating)</b> <br>\n",
    " &nbsp;&nbsp;&nbsp;&nbsp; a) Creating One Instance <br>\n",
    " &nbsp;&nbsp;&nbsp;&nbsp; b) Creating Multiple Instances <br>\n",
    " &nbsp;&nbsp;&nbsp;&nbsp; c) In-Class Exercise #1 - Create a Class 'Car' and instantiate three different makes of cars <br>\n",
    "3) <b>The \\__init\\__() Method</b> <br>\n",
    " &nbsp;&nbsp;&nbsp;&nbsp; a) The 'self' Attribute <br>\n",
    "4) <b>Class Attributes</b> <br>\n",
    " &nbsp;&nbsp;&nbsp;&nbsp; a) Initializing Attributes <br>\n",
    " &nbsp;&nbsp;&nbsp;&nbsp; b) Setting an Attribute Outside of the \\__init\\__() Method <br>\n",
    " &nbsp;&nbsp;&nbsp;&nbsp; c) Setting Defaults for Attributes <br>\n",
    " &nbsp;&nbsp;&nbsp;&nbsp; d) Accessing Class Attributes <br>\n",
    " &nbsp;&nbsp;&nbsp;&nbsp; e) Changing Class Attributes <br>\n",
    " &nbsp;&nbsp;&nbsp;&nbsp; f) In-Class Exercise #2 - Add a color and wheels attribute to your 'Car' class <br>\n",
    "5) <b>Class Methods</b> <br>\n",
    " &nbsp;&nbsp;&nbsp;&nbsp; a) Creating <br>\n",
    " &nbsp;&nbsp;&nbsp;&nbsp; b) Calling <br>\n",
    " &nbsp;&nbsp;&nbsp;&nbsp; c) Modifying an Attribute's Value Through a Method <br>\n",
    " &nbsp;&nbsp;&nbsp;&nbsp; d) Incrementing an Attribute's Value Through a Method <br>\n",
    " &nbsp;&nbsp;&nbsp;&nbsp; e) In-Class Exercise #3 - Add a method that prints the cars color and wheel number, then call them <br>\n",
    "6) <b>Inheritance</b> <br>\n",
    " &nbsp;&nbsp;&nbsp;&nbsp; a) Syntax for Inheriting from a Parent Class <br>\n",
    " &nbsp;&nbsp;&nbsp;&nbsp; b) The \\__init\\__() Method for a Child Class (super()) <br>\n",
    " &nbsp;&nbsp;&nbsp;&nbsp; c) Defining Attributes and Methods for the Child Class <br>\n",
    " &nbsp;&nbsp;&nbsp;&nbsp; d) Method Overriding <br>\n",
    " &nbsp;&nbsp;&nbsp;&nbsp; e) In-Class Exercise #4 - Create a class 'Ford' that inherits from 'Car' class and initialize it as a Blue Ford Explorer with 4 wheels using the super() method <br>\n",
    "7) <b>Classes as Attributes</b> <br>\n",
    "8) <b>Exercises</b> <br>\n",
    " &nbsp;&nbsp;&nbsp;&nbsp; a) Exercise #1 - Turn the shopping cart program from yesterday into an object-oriented program <br>"
   ]
  },
  {
   "cell_type": "markdown",
   "metadata": {},
   "source": [
    "## Creating a Class (Initializing/Declaring)\n",
    "<p>When creating a class, function, or even a variable you are initializing that object. Initializing and Declaring occur at the same time in Python, whereas in lower level languages you have to declare an object before initializing it. This is the first step in the process of using a class.</p>"
   ]
  },
  {
   "cell_type": "code",
   "execution_count": 11,
   "metadata": {},
   "outputs": [
    {
     "data": {
      "text/plain": [
       "<bound method Car.headlights of <__main__.Car object at 0x000001ED88CF8F10>>"
      ]
     },
     "execution_count": 11,
     "metadata": {},
     "output_type": "execute_result"
    }
   ],
   "source": [
    "class Car():\n",
    "    wheels = 4\n",
    "    color = 'blue'\n",
    "    \n",
    "    def headlights():\n",
    "        print('Turn them on for safety')\n",
    "        \n",
    "VW = Car()\n",
    "\n",
    "VW.headlights"
   ]
  },
  {
   "cell_type": "markdown",
   "metadata": {},
   "source": [
    "## Using a Class (Instantiating)\n",
    "<p>The process of creating a class is called <i>Instantiating</i>. Each time you create a variable of that type of class, it is referred to as an <i>Instance</i> of that class. This is the second step in the process of using a class.</p>"
   ]
  },
  {
   "cell_type": "markdown",
   "metadata": {},
   "source": [
    "##### Creating One Instance"
   ]
  },
  {
   "cell_type": "code",
   "execution_count": 4,
   "metadata": {},
   "outputs": [
    {
     "ename": "AttributeError",
     "evalue": "'Car' object has no attribute 'windshield'",
     "output_type": "error",
     "traceback": [
      "\u001b[1;31m---------------------------------------------------------------------------\u001b[0m",
      "\u001b[1;31mAttributeError\u001b[0m                            Traceback (most recent call last)",
      "Cell \u001b[1;32mIn[4], line 3\u001b[0m\n\u001b[0;32m      1\u001b[0m ford \u001b[38;5;241m=\u001b[39m Car()\n\u001b[1;32m----> 3\u001b[0m \u001b[38;5;28mprint\u001b[39m(ford\u001b[38;5;241m.\u001b[39mwindshield)\n",
      "\u001b[1;31mAttributeError\u001b[0m: 'Car' object has no attribute 'windshield'"
     ]
    }
   ],
   "source": [
    "ford = Car()\n",
    "\n",
    "print(ford.color)"
   ]
  },
  {
   "cell_type": "markdown",
   "metadata": {},
   "source": [
    "##### Creating Multiple Instances"
   ]
  },
  {
   "cell_type": "code",
   "execution_count": 7,
   "metadata": {},
   "outputs": [
    {
     "name": "stdout",
     "output_type": "stream",
     "text": [
      "blue\n"
     ]
    }
   ],
   "source": [
    "chevrolet = Car()\n",
    "honda = Car()\n",
    "porsche = Car()\n",
    "\n",
    "print(porsche.color)"
   ]
  },
  {
   "cell_type": "markdown",
   "metadata": {},
   "source": [
    "##### In-Class Exercise #1 - Create a Class 'Car' and Instantiate three different makes of cars"
   ]
  },
  {
   "cell_type": "code",
   "execution_count": 9,
   "metadata": {},
   "outputs": [
    {
     "name": "stdout",
     "output_type": "stream",
     "text": [
      "2\n",
      "Germany\n"
     ]
    }
   ],
   "source": [
    "class Car():\n",
    "    color = 'red'\n",
    "    doors = 2\n",
    "    country = 'Germany'\n",
    "\n",
    "VW = Car()\n",
    "BMW = Car()\n",
    "Benz = Car()\n",
    "\n",
    "print(VW.doors)\n",
    "print(Benz.country)"
   ]
  },
  {
   "cell_type": "markdown",
   "metadata": {},
   "source": [
    "## The \\__init\\__() Method <br>\n",
    "<p>This method is used in almost every created class, and called only once upon the creation of the class instance. This method will initialize all variables needed for the object.</p>"
   ]
  },
  {
   "cell_type": "code",
   "execution_count": 15,
   "metadata": {},
   "outputs": [
    {
     "name": "stdout",
     "output_type": "stream",
     "text": [
      "black\n",
      "6\n"
     ]
    }
   ],
   "source": [
    "class Car():\n",
    "    engine = '4.7L' #Global within class\n",
    "    \n",
    "    def __init__(self, color, wheels):\n",
    "        self.color = color\n",
    "        self.wheels = wheels\n",
    "\n",
    "mazda = Car('black', 4)\n",
    "VW = Car('red', 6)\n",
    "\n",
    "print(mazda.color)\n",
    "print(VW.wheels)"
   ]
  },
  {
   "cell_type": "markdown",
   "metadata": {},
   "source": [
    "##### The 'self' Attribute <br>\n",
    "<p>This attribute is required to keep track of specific instance's attributes. Without the self attribute, the program would not know how to reference or keep track of an instance's attributes.</p>"
   ]
  },
  {
   "cell_type": "code",
   "execution_count": 25,
   "metadata": {},
   "outputs": [
    {
     "data": {
      "text/plain": [
       "'Clean'"
      ]
     },
     "execution_count": 25,
     "metadata": {},
     "output_type": "execute_result"
    }
   ],
   "source": [
    "# see above\n",
    "class House():\n",
    "    \n",
    "    def __init__(self,wall,dishes):\n",
    "        self.wall = wall\n",
    "        self.dishes = dishes\n",
    "    \n",
    "    def washDishes(self):\n",
    "        if self.dishes.lower() == 'dirty':\n",
    "            return 'Clean'\n",
    "    def rockClimb(self, wall):\n",
    "        if self.wall.lower() == 'yes':\n",
    "            return 'rock on!'\n",
    "        else:\n",
    "            return 'why dont you want a rock wall?'\n",
    "\n",
    "brandon_house = House('yes', 'dirty')\n",
    "\n",
    "brandon_house.washDishes()\n",
    "# brandon_house.rockClimb('Yes')"
   ]
  },
  {
   "cell_type": "markdown",
   "metadata": {},
   "source": [
    "## Class Attributes <br>\n",
    "<p>While variables are inside of a class, they are referred to as attributes and not variables. When someone says 'attribute' you know they're speaking about a class. Attributes can be initialized through the init method, or outside of it.</p>"
   ]
  },
  {
   "cell_type": "markdown",
   "metadata": {},
   "source": [
    "##### Initializing Attributes"
   ]
  },
  {
   "cell_type": "code",
   "execution_count": 17,
   "metadata": {},
   "outputs": [],
   "source": [
    "# see above\n",
    "\n",
    "class Toy():\n",
    "    kind = 'car'\n",
    "    \n",
    "    def __init__(self, rooftop, horn, wheels):\n",
    "        self.rooftop = rooftop\n",
    "        self.horn = horn\n",
    "        self.wheels = wheels\n",
    "\n",
    "tonka_truck = Toy(1,1,4)\n",
    "hotwheels = Toy(2,3,8)"
   ]
  },
  {
   "cell_type": "markdown",
   "metadata": {},
   "source": [
    "##### Accessing Class Attributes"
   ]
  },
  {
   "cell_type": "code",
   "execution_count": 18,
   "metadata": {
    "scrolled": true
   },
   "outputs": [
    {
     "data": {
      "text/plain": [
       "1"
      ]
     },
     "execution_count": 18,
     "metadata": {},
     "output_type": "execute_result"
    }
   ],
   "source": [
    "# See Above\n",
    "tonka_truck.rooftop"
   ]
  },
  {
   "cell_type": "markdown",
   "metadata": {},
   "source": [
    "##### Setting Defaults for Attributes"
   ]
  },
  {
   "cell_type": "code",
   "execution_count": 19,
   "metadata": {},
   "outputs": [
    {
     "data": {
      "text/plain": [
       "'Blue'"
      ]
     },
     "execution_count": 19,
     "metadata": {},
     "output_type": "execute_result"
    }
   ],
   "source": [
    "class Car():\n",
    "    engine = '4.7L'\n",
    "    \n",
    "    def __init__(self,wheels):\n",
    "        self.wheels = wheels\n",
    "        self.color = 'Blue'\n",
    "        \n",
    "honda = Car(4)\n",
    "honda.color"
   ]
  },
  {
   "cell_type": "markdown",
   "metadata": {},
   "source": [
    "##### Changing Class Attributes <br>\n",
    "<p>Keep in mind there are global class attributes and then there are attributes only available to each class instance which won't effect other classes.</p>"
   ]
  },
  {
   "cell_type": "code",
   "execution_count": 20,
   "metadata": {},
   "outputs": [
    {
     "name": "stdout",
     "output_type": "stream",
     "text": [
      "Before change Blue\n",
      "After change White\n"
     ]
    }
   ],
   "source": [
    "jeep = Car(8)\n",
    "\n",
    "print(f'Before change {jeep.color}')\n",
    "\n",
    "jeep.color = 'White'\n",
    "\n",
    "print(f'After change {jeep.color}')"
   ]
  },
  {
   "cell_type": "code",
   "execution_count": null,
   "metadata": {},
   "outputs": [],
   "source": []
  },
  {
   "cell_type": "markdown",
   "metadata": {},
   "source": [
    "##### In-Class Exercise #2 - Add a doors and seats attribute to your 'Car' class then print out two different instances with different doors and seats"
   ]
  },
  {
   "cell_type": "code",
   "execution_count": 21,
   "metadata": {},
   "outputs": [
    {
     "name": "stdout",
     "output_type": "stream",
     "text": [
      "The VW has 4 doors and 5 seats\n",
      "The BMW has 2 doors and 2 seats\n"
     ]
    }
   ],
   "source": [
    "class Car():\n",
    "    \n",
    "    def __init__(self, doors, seats):\n",
    "        self.doors = doors\n",
    "        self.seats = seats\n",
    "\n",
    "VW = Car(4, 5)\n",
    "BMW = Car(2, 2)\n",
    "\n",
    "print(f'The VW has {VW.doors} doors and {VW.seats} seats')\n",
    "print(f'The BMW has {BMW.doors} doors and {BMW.seats} seats')"
   ]
  },
  {
   "cell_type": "markdown",
   "metadata": {},
   "source": [
    "## Class Methods <br>\n",
    "<p>While inside of a class, functions are referred to as 'methods'. If you hear someone mention methods, they're speaking about classes. Methods are essentially functions, but only callable on the instances of a class.</p>"
   ]
  },
  {
   "cell_type": "markdown",
   "metadata": {},
   "source": [
    "##### Creating"
   ]
  },
  {
   "cell_type": "code",
   "execution_count": 1,
   "metadata": {},
   "outputs": [],
   "source": [
    "class ShoppingBag():\n",
    "    \"\"\"\n",
    "    The ShoppingBag class will have handles, capacity, and items to place inside.\n",
    "    \n",
    "    Attributes for the class:\n",
    "    -handles: integer\n",
    "    -capacity: string OR integer\n",
    "    -items: list\n",
    "    \"\"\"\n",
    "    \n",
    "    def __init__(self,handles,capacity,items):\n",
    "        self.handles = handles\n",
    "        self.capacity = capacity\n",
    "        self.items = items\n",
    "    \n",
    "    # Write a method that shows the items in the shopping bag\n",
    "    def showShoppingBag(self):\n",
    "        print('You have items in your bag!')\n",
    "        for item in self.items:\n",
    "            print(item)\n",
    "    \n",
    "    #Show capacity\n",
    "    def showCapacity(self):\n",
    "        print(f'Your capacity is: {self.capacity}')\n",
    "        \n",
    "    #Add items\n",
    "    def addToShoppingBag(self):\n",
    "        products = input('What would you like to add?')\n",
    "        self.items.append(products)\n",
    "        \n",
    "    #Change capacity\n",
    "    def changeBagCapacity(self, capacity):\n",
    "        self.capacity = capacity\n",
    "        \n",
    "    #Increase the capacity\n",
    "    def increaseCapacity(self, change_capacity = 10):\n",
    "        if self.capacity == isinstance(self.capacity,str):\n",
    "            print('We cant add that here')\n",
    "        else:\n",
    "            self.capacity += change_capacity"
   ]
  },
  {
   "cell_type": "markdown",
   "metadata": {},
   "source": [
    "##### Calling\n",
    "wholeFoods_bag = ShoppingBag(2,10,[])\n",
    "\n",
    "def run():\n",
    "    while True"
   ]
  },
  {
   "cell_type": "code",
   "execution_count": 2,
   "metadata": {},
   "outputs": [
    {
     "name": "stdout",
     "output_type": "stream",
     "text": [
      "What do you want to do? add/show/quitquit\n",
      "You have items in your bag!\n",
      "Thanks for shopping\n"
     ]
    }
   ],
   "source": [
    "# See Above\n",
    "wholeFoods_bag = ShoppingBag(2,10,[])\n",
    "\n",
    "def run():\n",
    "    while True:\n",
    "        response = input('What do you want to do? add/show/quit')\n",
    "        \n",
    "        if response.lower() == 'quit':\n",
    "            wholeFoods_bag.showShoppingBag()\n",
    "            print('Thanks for shopping')\n",
    "            break\n",
    "        elif response.lower() == 'add':\n",
    "            wholeFoods_bag.addToShoppingBag()\n",
    "        elif response.lower() == 'show':\n",
    "            wholeFoods_bag.showShoppingBag()\n",
    "        else:\n",
    "            print('try another command')\n",
    "\n",
    "run()"
   ]
  },
  {
   "cell_type": "markdown",
   "metadata": {},
   "source": [
    "##### Modifying an Attribute's Value Through a Method"
   ]
  },
  {
   "cell_type": "code",
   "execution_count": 38,
   "metadata": {},
   "outputs": [
    {
     "name": "stdout",
     "output_type": "stream",
     "text": [
      "Your capacity is: 40\n",
      "Capacity AFTER the change...\n",
      "Your capacity is: 10\n"
     ]
    }
   ],
   "source": [
    "wholeFoods_bag.showCapacity()\n",
    "print('Capacity AFTER the change...')\n",
    "wholeFoods_bag.changeBagCapacity(10)\n",
    "wholeFoods_bag.showCapacity()"
   ]
  },
  {
   "cell_type": "markdown",
   "metadata": {},
   "source": [
    "##### Incrementing an Attribute's Value Through a Method"
   ]
  },
  {
   "cell_type": "code",
   "execution_count": 4,
   "metadata": {},
   "outputs": [
    {
     "name": "stdout",
     "output_type": "stream",
     "text": [
      "Your capacity is: 20\n",
      "Capacity AFTER the change...\n",
      "Your capacity is: 30\n"
     ]
    }
   ],
   "source": [
    "wholeFoods_bag.showCapacity()\n",
    "print('Capacity AFTER the change...')\n",
    "wholeFoods_bag.increaseCapacity()\n",
    "wholeFoods_bag.showCapacity()"
   ]
  },
  {
   "cell_type": "markdown",
   "metadata": {},
   "source": [
    "##### In-Class Exercise #3 - Add a method that takes in three parameters of year, doors and seats and prints out a formatted print statement with make, model, year, seats, and doors"
   ]
  },
  {
   "cell_type": "code",
   "execution_count": 12,
   "metadata": {},
   "outputs": [
    {
     "name": "stdout",
     "output_type": "stream",
     "text": [
      "This is a car from 2013 and is a Volks Jetta and has 4 doors and 5 seats\n"
     ]
    }
   ],
   "source": [
    "# Create class with 2 paramters inside of the __init__ which are make and model\n",
    "class Car():\n",
    "    \n",
    "    def __init__(self, make, model):\n",
    "        self.make = make\n",
    "        self.model = model\n",
    "    \n",
    "    def details(self,year,door,seats):\n",
    "        self.year = year\n",
    "        self.door = door\n",
    "        self.seats = seats\n",
    "        print(f'This is a car from {self.year} and is a {self.make} {self.model} and has {self.door} doors and {self.seats} seats')\n",
    "\n",
    "VW = Car('Volks', 'Jetta')\n",
    "VW.details('2013', 4, 5)\n",
    "\n",
    "# Inside of the Car class create a method that has 4 parameter in total (self,year,door,seats)\n",
    "\n",
    "# Output: This car is from 2019 and is a Ford Explorer and has 4 doors and 5 seats\n",
    "\n"
   ]
  },
  {
   "cell_type": "markdown",
   "metadata": {},
   "source": [
    "## Inheritance <br>\n",
    "<p>You can create a child-parent relationship between two classes by using inheritance. What this allows you to do is have overriding methods, but also inherit traits from the parent class. Think of it as an actual parent and child, the child will inherit the parent's genes, as will the classes in OOP</p>"
   ]
  },
  {
   "cell_type": "markdown",
   "metadata": {},
   "source": [
    "##### Syntax for Inheriting from a Parent Class"
   ]
  },
  {
   "cell_type": "code",
   "execution_count": 16,
   "metadata": {},
   "outputs": [
    {
     "name": "stdout",
     "output_type": "stream",
     "text": [
      "Bark\n",
      "Make some generic sound\n",
      "None\n",
      "9.8\n"
     ]
    }
   ],
   "source": [
    "# Create a parent clss\n",
    "\n",
    "class Animal():\n",
    "    acceleration = 9.8\n",
    "    \n",
    "    def __init__(self,name,species, legs =4):\n",
    "        self.name = name\n",
    "        self.species = species\n",
    "        self.legs = legs\n",
    "    \n",
    "    def makeSound(self):\n",
    "        print('Make some generic sound')\n",
    "\n",
    "class Dog(Animal):\n",
    "    speed = 15\n",
    "    \n",
    "    def printInfo(self):\n",
    "        print(f'The dog has {self.speed} mph in speed and {self.acceleration}')\n",
    "\n",
    "class Mutt(Dog):\n",
    "    color = 'Tan'\n",
    "    \n",
    "    def __init__(self,name,species,eyecolor,legs = 4):\n",
    "        Dog.__init__(self,name,species,legs)\n",
    "        self.eyecolor = eyecolor\n",
    "    \n",
    "    def makeSound(self):\n",
    "        noise = 'Bark'\n",
    "        return noise\n",
    "\n",
    "lassie = Dog('Lassie', 'Dog')\n",
    "basic_animal = Animal('Generic Animal name', 'Generic animal species')\n",
    "\n",
    "buster = Mutt('buster', 'mutt', 'brown')\n",
    "\n",
    "print(buster.makeSound())\n",
    "print(lassie.makeSound())\n",
    "print(buster.acceleration)\n",
    "        "
   ]
  },
  {
   "cell_type": "markdown",
   "metadata": {},
   "source": [
    "##### The \\__init\\__() Method for a Child Class - super()"
   ]
  },
  {
   "cell_type": "code",
   "execution_count": 18,
   "metadata": {
    "scrolled": true
   },
   "outputs": [
    {
     "name": "stdout",
     "output_type": "stream",
     "text": [
      "Bark\n",
      "Make some generic sound\n",
      "None\n",
      "9.8\n"
     ]
    }
   ],
   "source": [
    "class Puppy(Dog):\n",
    "    color = 'black and brown'\n",
    "    \n",
    "    def __init__(self,name,species,eyecolor, legs = 4):\n",
    "        super().__init__(name,species,legs)\n",
    "        self.eyecolor = eyecolor\n",
    "        \n",
    "    def makeSound(self):\n",
    "        noise = 'Bark'\n",
    "        return noise\n",
    "\n",
    "print(buster.makeSound())\n",
    "print(lassie.makeSound())\n",
    "print(buster.acceleration)"
   ]
  },
  {
   "cell_type": "markdown",
   "metadata": {},
   "source": [
    "##### Defining Attributes and Methods for the Child Class"
   ]
  },
  {
   "cell_type": "code",
   "execution_count": null,
   "metadata": {},
   "outputs": [],
   "source": [
    "# See Above"
   ]
  },
  {
   "cell_type": "markdown",
   "metadata": {},
   "source": [
    "##### Method Overriding"
   ]
  },
  {
   "cell_type": "code",
   "execution_count": null,
   "metadata": {},
   "outputs": [],
   "source": [
    "# See Above"
   ]
  },
  {
   "cell_type": "markdown",
   "metadata": {},
   "source": [
    "## Classes as Attributes <br>\n",
    "<p>Classes can also be used as attributes within another class. This is useful in situations where you need to keep variables locally stored, instead of globally stored.</p>"
   ]
  },
  {
   "cell_type": "code",
   "execution_count": 28,
   "metadata": {},
   "outputs": [
    {
     "name": "stdout",
     "output_type": "stream",
     "text": [
      "20\n"
     ]
    },
    {
     "data": {
      "text/plain": [
       "'2019 Tesla Model X 20'"
      ]
     },
     "execution_count": 28,
     "metadata": {},
     "output_type": "execute_result"
    }
   ],
   "source": [
    "class Battery():\n",
    "    volts = 7.8\n",
    "    \n",
    "    def __init__(self, cells):\n",
    "        self.cells = cells\n",
    "\n",
    "class Car():\n",
    "    def __init__(self,year,make,model,battery):\n",
    "        self.year =year\n",
    "        self.make = make\n",
    "        self.model = model\n",
    "        self.battery = battery\n",
    "    \n",
    "    def printInfo(self):\n",
    "        return f'{self.year} {self.make} {self.model} {self.battery.cells}'\n",
    "\n",
    "my_battery = Battery(20)\n",
    "\n",
    "tesla = Car(2019, 'Tesla', 'Model X', my_battery)\n",
    "print(tesla.battery.cells)\n",
    "tesla.printInfo()"
   ]
  },
  {
   "cell_type": "markdown",
   "metadata": {},
   "source": [
    "# Exercises"
   ]
  },
  {
   "cell_type": "markdown",
   "metadata": {},
   "source": [
    "### Exercise 1 - Turn the shopping cart program from yesterday into an object-oriented program\n",
    "\n",
    "The comments in the cell below are there as a guide for thinking about the problem. However, if you feel a different way is best for you and your own thought process, please do what feels best for you by all means."
   ]
  },
  {
   "cell_type": "code",
   "execution_count": 31,
   "metadata": {},
   "outputs": [
    {
     "name": "stdout",
     "output_type": "stream",
     "text": [
      "Thanks for shopping, These are the items in your cart:\n",
      "Items currently in your cart:\n",
      "{'melon': 2}\n"
     ]
    }
   ],
   "source": [
    "# Create a class called cart that retains items and has methods to add, remove, and show\n",
    "from IPython.display import clear_output\n",
    "\n",
    "class ShoppingCart():\n",
    "    \"\"\"\n",
    "    The ShoppingBag class will have a items and quantity to place inside.\n",
    "    \n",
    "    Attributes for the class:\n",
    "    -items: dictionary\n",
    "    \"\"\"\n",
    "    \n",
    "    def __init__(self,items):\n",
    "        self.items = items\n",
    "        \n",
    "    def showShoppingCart(self):\n",
    "        if self.items == {}:\n",
    "            print('Your shopping cart is empty, please add something')\n",
    "        else:\n",
    "            print(f'Items currently in your cart:\\n{self.items}')\n",
    "        \n",
    "    def addToShoppingCart(self):\n",
    "        AddItem = input('What item do you want to add?\\n')\n",
    "        clear_output()\n",
    "        if AddItem in self.items.keys():\n",
    "            self.items[AddItem] += 1\n",
    "        else:\n",
    "            self.items[AddItem] = 1\n",
    "    \n",
    "    def deleteFromShoppingChart(self):\n",
    "        DelItem = input(f'What item do you want to delete?\\nItems to delete:{self.items}\\n')\n",
    "        clear_output()\n",
    "        if DelItem in self.items.keys():\n",
    "            del self.items[DelItem]\n",
    "        else:\n",
    "            print('That item is not in your shopping cart?\\nPlease try again.')\n",
    "\n",
    "        \n",
    "userShoppingCart = ShoppingCart({})\n",
    "question = ''\n",
    "\n",
    "while question.lower() != 'quit':\n",
    "    question = input('Do you want to \"show\", \"add\", or \"delete\" items to your shopping cart?\\nSay \"quit\" to quit\\n')\n",
    "    clear_output()\n",
    "    if question.lower() == 'show':\n",
    "        userShoppingCart.showShoppingCart()\n",
    "    elif question.lower() == 'add':\n",
    "        userShoppingCart.addToShoppingCart()\n",
    "    elif question.lower() == 'delete':\n",
    "        userShoppingCart.deleteFromShoppingChart()\n",
    "    elif question.lower() == 'quit':\n",
    "        print('Thanks for shopping,')\n",
    "        userShoppingCart.showShoppingCart()\n",
    "    else:\n",
    "        print('That was not a valid input\\nPlease try again')"
   ]
  },
  {
   "cell_type": "markdown",
   "metadata": {},
   "source": [
    "### Exercise 2 - Write a Python class which has two methods get_String and print_String. get_String accept a string from the user and print_String print the string in upper case"
   ]
  },
  {
   "cell_type": "code",
   "execution_count": 1,
   "metadata": {},
   "outputs": [
    {
     "name": "stdout",
     "output_type": "stream",
     "text": [
      "See you later! Alligator!\n"
     ]
    }
   ],
   "source": [
    "from IPython.display import clear_output\n",
    "\n",
    "class stringStuff():\n",
    "    def __init__(self, string = ''):\n",
    "        self.string = string\n",
    "    \n",
    "    def getString(self):\n",
    "        self.string = input('Please enter some text here:\\n')\n",
    "        clear_output()\n",
    "    \n",
    "    def printString(self):\n",
    "        if self.string == '':\n",
    "            print('You did not enter any text, please try again')\n",
    "        else:\n",
    "            print(f'The text your previously entered:\\n{self.string.upper()}')\n",
    "\n",
    "userString = stringStuff()\n",
    "\n",
    "question = ''\n",
    "\n",
    "while question.lower() != 'quit':\n",
    "    question = input('Do you want to \"add\", or \"show\" text?\\nSay \"quit\" to quit\\n')\n",
    "    clear_output()\n",
    "    if question.lower() == 'show':\n",
    "        userString.printString()\n",
    "    elif question.lower() == 'add':\n",
    "        userString.getString()\n",
    "    elif question.lower() == 'quit':\n",
    "        print('See you later! Alligator!')\n",
    "    else:\n",
    "        print('That was not a valid input\\nPlease try again')\n"
   ]
  },
  {
   "cell_type": "code",
   "execution_count": null,
   "metadata": {},
   "outputs": [],
   "source": []
  }
 ],
 "metadata": {
  "kernelspec": {
   "display_name": "Python 3 (ipykernel)",
   "language": "python",
   "name": "python3"
  },
  "language_info": {
   "codemirror_mode": {
    "name": "ipython",
    "version": 3
   },
   "file_extension": ".py",
   "mimetype": "text/x-python",
   "name": "python",
   "nbconvert_exporter": "python",
   "pygments_lexer": "ipython3",
   "version": "3.11.4"
  }
 },
 "nbformat": 4,
 "nbformat_minor": 2
}
